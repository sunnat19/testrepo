{
 "cells": [
  {
   "cell_type": "markdown",
   "metadata": {},
   "source": [
    "<center>\n",
    "    <img src=\"https://s3-api.us-geo.objectstorage.softlayer.net/cf-courses-data/CognitiveClass/Logos/organization_logo/organization_logo.png\" width=\"300\" alt=\"cognitiveclass.ai logo\"  />\n",
    "</center>\n"
   ]
  },
  {
   "cell_type": "markdown",
   "metadata": {},
   "source": [
    "#### Add your code below following the instructions given in the course\n"
   ]
  },
  {
   "cell_type": "markdown",
   "metadata": {
    "tags": []
   },
   "source": [
    "# My Jupyter Notebook on IBM Watson Studio"
   ]
  },
  {
   "cell_type": "markdown",
   "metadata": {},
   "source": [
    "**Maxammadjonov Sunnatilla**"
   ]
  },
  {
   "cell_type": "markdown",
   "metadata": {},
   "source": [
    " Business analyst"
   ]
  },
  {
   "cell_type": "markdown",
   "metadata": {},
   "source": [
    " ***I am intersting in Data science because пetting useful information from data creates enthusiasm in me***"
   ]
  },
  {
   "cell_type": "markdown",
   "metadata": {},
   "source": [
    "### Counts  root from 25"
   ]
  },
  {
   "cell_type": "code",
   "execution_count": 12,
   "metadata": {},
   "outputs": [
    {
     "name": "stdout",
     "output_type": "stream",
     "text": [
      "5.0\n"
     ]
    }
   ],
   "source": [
    "import math\n",
    "sqrt = math.sqrt(25)\n",
    "print(sqrt)"
   ]
  },
  {
   "cell_type": "markdown",
   "metadata": {},
   "source": [
    "<hr> \n",
    "\n",
    "- Arsenal\n",
    "- Manchester city\n",
    "- Newcastle United\n",
    "- Tottenham Hotspur\n",
    "- Manchester United\n",
    "\n",
    "| Team | Games| Points|\n",
    "| --- | --- | --- |\n",
    "|Arsenal | 14 | 37 |\n",
    "|Manchester City | 14 | 32 |\n",
    "|Newcastle United | 15 | 30 |\n",
    "|Tottenham Hotspur | 15 | 29 |\n",
    "| Manchester United | 14 | 26 |\n",
    "\n",
    "https://www.premierleague.com/tables"
   ]
  },
  {
   "cell_type": "code",
   "execution_count": null,
   "metadata": {},
   "outputs": [],
   "source": []
  }
 ],
 "metadata": {
  "kernelspec": {
   "display_name": "Python",
   "language": "python",
   "name": "conda-env-python-py"
  },
  "language_info": {
   "codemirror_mode": {
    "name": "ipython",
    "version": 3
   },
   "file_extension": ".py",
   "mimetype": "text/x-python",
   "name": "python",
   "nbconvert_exporter": "python",
   "pygments_lexer": "ipython3",
   "version": "3.7.12"
  }
 },
 "nbformat": 4,
 "nbformat_minor": 4
}
